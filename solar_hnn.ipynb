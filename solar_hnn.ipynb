{
 "cells": [
  {
   "cell_type": "code",
   "execution_count": 1,
   "metadata": {},
   "outputs": [],
   "source": [
    "import torch\n",
    "import torch.nn as nn\n",
    "import torch.nn.functional as F\n",
    "\n",
    "import matplotlib.pyplot as plt\n",
    "\n",
    "import autograd\n",
    "import autograd.numpy as np\n",
    "\n",
    "import scipy.integrate\n",
    "solve_ivp = scipy.integrate.solve_ivp\n",
    "\n",
    "import csv\n",
    "\n",
    "import requests\n",
    "\n",
    "from functions import *\n",
    "from tqdm import tqdm\n"
   ]
  },
  {
   "cell_type": "markdown",
   "metadata": {},
   "source": [
    "# API call"
   ]
  },
  {
   "cell_type": "code",
   "execution_count": 2,
   "metadata": {},
   "outputs": [],
   "source": [
    "# https://ssd-api.jpl.nasa.gov/doc/horizons.html\n",
    "\n",
    "url = \"https://ssd.jpl.nasa.gov/api/horizons.api\"\n",
    "format = \"format=text\"\n",
    "command = \"COMMAND=\" # target body\n",
    "targets = [\"10\", \"199\", \"299\", \"399\", \"499\", \"599\", \"699\", \"799\", \"899\"]  # sun, mercury, venus, earth, mars, jupiter, saturn, uranus, neptun\n",
    "target_names = [\"sun\", \"mercury\", \"venus\", \"earth\", \"mars\", \"jupiter\", \"saturn\", \"uranus\", \"neptun\"]\n",
    "obj_data = \"OBJ_DATA='NO'\"\n",
    "ephemeris = \"MAKE_EPHEM='YES'\"\n",
    "eph_type = \"EPHEM_TYPE='VECTORS'\"\n",
    "vec_table = \"VEC_TABLE='2'\"\n",
    "center = \"CENTER='500@0'\"\n",
    "start = \"START_TIME='2019-01-01'\"\n",
    "stop = \"STOP_TIME='2023-01-01'\"\n",
    "step = \"STEP_SIZE='1 h'\"\n",
    "cal_type = \"CAL_TYPE=GREGORIAN\"\n",
    "vector_labels = \"VEC_LABELS=NO\"\n",
    "csv_format = \"CSV_FORMAT=YES\"\n",
    "units = \"OUT_UNITS='AU-D'\"\n",
    "#quantities = \"QUANTITIES='1,9,20,23,24,29'\""
   ]
  },
  {
   "cell_type": "code",
   "execution_count": 3,
   "metadata": {},
   "outputs": [],
   "source": [
    "targets = targets[1:3]\n",
    "target_names = target_names[1:3]"
   ]
  },
  {
   "cell_type": "code",
   "execution_count": 4,
   "metadata": {},
   "outputs": [],
   "source": [
    "data = []\n",
    "time = []\n",
    "for target in targets:\n",
    "    path = url+\"?\"+format+\"&\"+command+target+\"&\"+obj_data+\"&\"+ephemeris+\"&\"+eph_type+\"&\"+vec_table+\"&\"+center+\"&\"+start+\"&\"+stop+\"&\"+step+\"&\"+cal_type+\"&\"+vector_labels+\"&\"+csv_format+\"&\"+units\n",
    "    q, p, t = read_data(requests.get(path).text)\n",
    "    data.append([[q], [p]])\n",
    "    time.append([t])\n",
    "    \n",
    "data = np.asarray(data).reshape((len(targets),2,len(data[0][0][0]),3))\n",
    "time = np.asarray(time).reshape((len(targets),len(time[0][0])))"
   ]
  },
  {
   "cell_type": "code",
   "execution_count": null,
   "metadata": {},
   "outputs": [],
   "source": [
    "print(data.shape)"
   ]
  },
  {
   "cell_type": "markdown",
   "metadata": {},
   "source": [
    "## Data shape\n",
    "\n",
    "9 x target body <br>\n",
    "2 x vectors - q & p <br>\n",
    "n x data points <br>\n",
    "3 x coordinates - x, y, z"
   ]
  },
  {
   "cell_type": "markdown",
   "metadata": {},
   "source": [
    "# Phase spaces for all bodies in the system"
   ]
  },
  {
   "cell_type": "code",
   "execution_count": null,
   "metadata": {},
   "outputs": [],
   "source": [
    "plot_phase_space(data, target_names, \"Phase space of the solar system\")"
   ]
  },
  {
   "cell_type": "code",
   "execution_count": null,
   "metadata": {},
   "outputs": [],
   "source": [
    "plot_space(data, target_names, \"Space of the solar system\")"
   ]
  },
  {
   "cell_type": "markdown",
   "metadata": {},
   "source": [
    "# Learning the solar system"
   ]
  },
  {
   "cell_type": "markdown",
   "metadata": {},
   "source": [
    "## Preparing the data"
   ]
  },
  {
   "cell_type": "code",
   "execution_count": null,
   "metadata": {},
   "outputs": [],
   "source": [
    "q, dq, p, dp, max_q, max_p = prep_data(data, time)\n",
    "\n",
    "q_p = np.concatenate((q, p), axis=1)\n",
    "q_p = torch.tensor(q_p, requires_grad=True, dtype=torch.float32)\n",
    "\n",
    "dq_dp = np.concatenate((dq, dp), axis=1)\n",
    "dq_dp = torch.tensor(dq_dp, requires_grad=True, dtype=torch.float32)"
   ]
  },
  {
   "cell_type": "code",
   "execution_count": null,
   "metadata": {},
   "outputs": [],
   "source": [
    "#torch.save(q_p, \"data/q_p.pt\")\n",
    "#torch.save(dq_dp, \"data/dq_dp.pt\")\n",
    "#np.save(\"data/time.npy\", time)\n",
    "#np.save(\"data/data.npy\", data)"
   ]
  },
  {
   "cell_type": "markdown",
   "metadata": {},
   "source": [
    "## Normal Neural Network"
   ]
  },
  {
   "cell_type": "code",
   "execution_count": null,
   "metadata": {},
   "outputs": [],
   "source": [
    "class MLP(nn.Module):\n",
    "    def __init__(self, bodys) -> None:\n",
    "        super().__init__()\n",
    "\n",
    "        self.fc1 = nn.Linear(bodys, 500)\n",
    "        self.fc2 = nn.Linear(500, 200)\n",
    "        self.fc3 = nn.Linear(200, 200)\n",
    "        self.fc4 = nn.Linear(200, bodys)\n",
    "\n",
    "    def forward(self, x):\n",
    "        x = torch.tanh(self.fc1(x))\n",
    "        x = torch.tanh(self.fc2(x))\n",
    "        x = torch.tanh(self.fc3(x))\n",
    "        x = self.fc4(x)\n",
    "        return x"
   ]
  },
  {
   "cell_type": "markdown",
   "metadata": {},
   "source": [
    "## Hamiltonian"
   ]
  },
  {
   "cell_type": "markdown",
   "metadata": {},
   "source": [
    "## Training loop"
   ]
  },
  {
   "cell_type": "code",
   "execution_count": null,
   "metadata": {},
   "outputs": [],
   "source": [
    "def train(model, x, dx, batch_size=32, epochs=100, baseline=True, lr=0.001):\n",
    "    loss_hist = []\n",
    "    ep_hist = []\n",
    "\n",
    "    optimizer = torch.optim.Adam(model.parameters(), lr=lr)\n",
    "    loss = nn.MSELoss()\n",
    "\n",
    "    for step in tqdm(range(epochs)):\n",
    "        model.train()\n",
    "\n",
    "        batches = np.random.choice(len(x), len(x))\n",
    "\n",
    "        for batch in range(0, len(x)//batch_size+1):\n",
    "\n",
    "            low = batch * batch_size\n",
    "            high = min((batch + 1) * batch_size, len(x))\n",
    "            bb = batches[low:high]\n",
    "\n",
    "            x_batch = x[bb]\n",
    "            dx_batch = dx[bb]\n",
    "\n",
    "            optimizer.zero_grad()\n",
    "\n",
    "            if baseline:\n",
    "                pred = model(x_batch)\n",
    "            else:   \n",
    "                pred = HNN(x_batch, model)\n",
    "\n",
    "            loss_val = loss(pred, dx_batch)\n",
    "            loss_val.backward()\n",
    "            optimizer.step()\n",
    "\n",
    "        if step % (epochs/10) == 0:\n",
    "            model.eval()\n",
    "            if baseline:\n",
    "                pred = model(x)\n",
    "            else:   \n",
    "                pred = HNN(x, model)\n",
    "\n",
    "            loss_val = loss(pred, dx)\n",
    "            loss_hist.append(loss_val.item())\n",
    "            ep_hist.append(step+1)\n",
    "            \n",
    "            #print(f\"Epoch {step}/{epochs} --- Train-Loss: {loss_val.item()}\")#{round(loss_val.item(), 3)}\")\n",
    "\n",
    "    plt.plot(ep_hist, loss_hist)"
   ]
  },
  {
   "cell_type": "markdown",
   "metadata": {},
   "source": [
    "# Baseline NN"
   ]
  },
  {
   "cell_type": "code",
   "execution_count": null,
   "metadata": {},
   "outputs": [],
   "source": [
    "model_baseline = MLP(q_p.shape[1])\n",
    "\n",
    "train(model=model_baseline, x=q_p, dx=dq_dp, batch_size=32, epochs=30, baseline=True, lr=1e-3)\n"
   ]
  },
  {
   "cell_type": "code",
   "execution_count": null,
   "metadata": {},
   "outputs": [],
   "source": [
    "\n",
    "#torch.save(model_baseline.state_dict(), \"data/model_baseline.pt\")"
   ]
  },
  {
   "cell_type": "markdown",
   "metadata": {},
   "source": [
    "# HNN"
   ]
  },
  {
   "cell_type": "code",
   "execution_count": null,
   "metadata": {},
   "outputs": [],
   "source": [
    "model_HNN = MLP(q_p.shape[1])\n",
    "\n",
    "train(model=model_HNN, x=q_p, dx=dq_dp, batch_size=32, epochs=30, baseline=False, lr=1e-3)\n",
    "\n",
    "#torch.save(model_HNN.state_dict(), \"data/model_HNN.pt\")"
   ]
  },
  {
   "cell_type": "markdown",
   "metadata": {},
   "source": [
    "# Predicting"
   ]
  },
  {
   "cell_type": "code",
   "execution_count": null,
   "metadata": {},
   "outputs": [],
   "source": [
    "q_p0 = q_p[0].detach().numpy()\n",
    "t_span = [0, 18000]\n",
    "steps = 100000\n",
    "\n",
    "# integrate\n",
    "t = torch.linspace(t_span[0], t_span[1], steps)\n",
    "xHNN = integrate_model(model_HNN.double(), t_span=t_span, y0=q_p0, t_eval=t, baseline=False)\n",
    "xBaseline = integrate_model(model_baseline.double(), t_span=t_span, y0=q_p0, t_eval=t, baseline=True)"
   ]
  },
  {
   "cell_type": "code",
   "execution_count": null,
   "metadata": {},
   "outputs": [],
   "source": [
    "# rescale output to original values\n",
    "\n",
    "xHNN.y[0:(len(targets)*3)] = xHNN.y[0:(len(targets)*3)]*max_q\n",
    "xHNN.y[(len(targets)*3):len(xHNN.y)] = xHNN.y[(len(targets)*3):len(xHNN.y)]*max_p\n",
    "\n",
    "xBaseline.y[0:(len(targets)*3)] = xBaseline.y[0:(len(targets)*3)]*max_q\n",
    "xBaseline.y[(len(targets)*3):len(xBaseline.y)] = xBaseline.y[(len(targets)*3):len(xBaseline.y)]*max_p"
   ]
  },
  {
   "cell_type": "code",
   "execution_count": null,
   "metadata": {},
   "outputs": [],
   "source": [
    "HNN_data = reshape_data(xHNN.y)\n",
    "Baseline_data = reshape_data(xBaseline.y)"
   ]
  },
  {
   "cell_type": "markdown",
   "metadata": {},
   "source": [
    "# Plot the results\n",
    "## HNN"
   ]
  },
  {
   "cell_type": "code",
   "execution_count": null,
   "metadata": {},
   "outputs": [],
   "source": [
    "plot_phase_space(HNN_data, target_names, \"Phase spaces for HNN\")"
   ]
  },
  {
   "cell_type": "code",
   "execution_count": null,
   "metadata": {},
   "outputs": [],
   "source": [
    "plot_space(HNN_data, target_names, \"HNN\", color=False)"
   ]
  },
  {
   "cell_type": "markdown",
   "metadata": {},
   "source": [
    "## Baseline NN"
   ]
  },
  {
   "cell_type": "code",
   "execution_count": null,
   "metadata": {},
   "outputs": [],
   "source": [
    "plot_phase_space(Baseline_data, target_names, \"Phase spaces for Baseline\")"
   ]
  },
  {
   "cell_type": "code",
   "execution_count": null,
   "metadata": {},
   "outputs": [],
   "source": [
    "plot_space(Baseline_data, target_names, \"Baseline\")"
   ]
  },
  {
   "cell_type": "code",
   "execution_count": null,
   "metadata": {},
   "outputs": [],
   "source": []
  }
 ],
 "metadata": {
  "kernelspec": {
   "display_name": "pytorch_p310",
   "language": "python",
   "name": "python3"
  },
  "language_info": {
   "codemirror_mode": {
    "name": "ipython",
    "version": 3
   },
   "file_extension": ".py",
   "mimetype": "text/x-python",
   "name": "python",
   "nbconvert_exporter": "python",
   "pygments_lexer": "ipython3",
   "version": "3.10.11"
  }
 },
 "nbformat": 4,
 "nbformat_minor": 2
}
